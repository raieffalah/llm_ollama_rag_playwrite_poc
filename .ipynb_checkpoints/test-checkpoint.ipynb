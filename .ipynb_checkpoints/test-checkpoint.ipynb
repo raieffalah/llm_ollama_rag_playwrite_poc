{
 "cells": [
  {
   "cell_type": "code",
   "execution_count": 1,
   "id": "7d711bc6-00a5-4dfa-a246-2a67abe9f4f2",
   "metadata": {},
   "outputs": [],
   "source": [
    "# imports\n",
    "\n",
    "import requests\n",
    "from bs4 import BeautifulSoup\n",
    "from IPython.display import Markdown, display\n",
    "import os\n",
    "import glob\n",
    "import gradio as gr"
   ]
  },
  {
   "cell_type": "code",
   "execution_count": 2,
   "id": "4b7eab03-f471-47de-860b-deebf81be8c2",
   "metadata": {},
   "outputs": [],
   "source": [
    "# Constants\n",
    "\n",
    "OLLAMA_API = \"http://localhost:11434/api/chat\"\n",
    "HEADERS = {\"Content-Type\": \"application/json\"}\n",
    "MODEL = \"llama3.2\""
   ]
  },
  {
   "cell_type": "code",
   "execution_count": 3,
   "id": "c4d64751-dc4d-47ae-811b-c606b80cbc26",
   "metadata": {},
   "outputs": [],
   "source": [
    "# Create a messages list using the same format that we used for OpenAI\n",
    "\n",
    "messages = [\n",
    "    {\"role\": \"user\", \"content\": \"Describe some of the business applications of Generative AI\"}\n",
    "]"
   ]
  },
  {
   "cell_type": "code",
   "execution_count": 4,
   "id": "53065fc3-a8b4-49f0-8d1f-5d998bfc5288",
   "metadata": {},
   "outputs": [],
   "source": [
    "payload = {\n",
    "        \"model\": MODEL,\n",
    "        \"messages\": messages,\n",
    "        \"stream\": False\n",
    "    }"
   ]
  },
  {
   "cell_type": "code",
   "execution_count": 5,
   "id": "4db6a1d6-4c43-4a95-b7fe-b7d1f0a51aad",
   "metadata": {},
   "outputs": [],
   "source": [
    "context = {}\n",
    "\n",
    "app = glob.glob(\"data/*\")\n",
    "\n",
    "for a in app:\n",
    "    name = a.split('\\\\')[-1][:-4]\n",
    "    doc = \"\"\n",
    "    with open(a, \"r\", encoding=\"utf-8\") as f:\n",
    "        doc = f.read()\n",
    "    context[name]=doc"
   ]
  },
  {
   "cell_type": "code",
   "execution_count": 6,
   "id": "fe340900-3698-488e-9966-4a0e61f8a501",
   "metadata": {},
   "outputs": [
    {
     "data": {
      "text/plain": [
       "'<!DOCTYPE html>\\n<html lang=\"en\">\\n<head>\\n    <meta charset=\"UTF-8\">\\n    <meta name=\"viewport\" content=\"width=device-width, initial-scale=1.0\">\\n    <title>Todo List App</title>\\n    <style>\\n        * {\\n            margin: 0;\\n            padding: 0;\\n            box-sizing: border-box;\\n            font-family: \\'Segoe UI\\', Tahoma, Geneva, Verdana, sans-serif;\\n        }\\n        \\n        body {\\n            background-color: #f5f5f5;\\n            color: #333;\\n            min-height: 100vh;\\n            padding: 20px;\\n        }\\n        \\n        .container {\\n            max-width: 600px;\\n            margin: 0 auto;\\n            background-color: white;\\n            border-radius: 10px;\\n            box-shadow: 0 0 10px rgba(0, 0, 0, 0.1);\\n            padding: 20px;\\n        }\\n        \\n        h1 {\\n            text-align: center;\\n            margin-bottom: 20px;\\n            color: #4285f4;\\n        }\\n        \\n        .input-container {\\n            display: flex;\\n            margin-bottom: 20px;\\n        }\\n        \\n        #todo-input {\\n            flex-grow: 1;\\n            padding: 10px;\\n            font-size: 16px;\\n            border: 1px solid #ddd;\\n            border-radius: 4px 0 0 4px;\\n            outline: none;\\n        }\\n        \\n        #add-button {\\n            background-color: #4285f4;\\n            color: white;\\n            border: none;\\n            padding: 10px 15px;\\n            cursor: pointer;\\n            font-size: 16px;\\n            border-radius: 0 4px 4px 0;\\n            transition: background-color 0.3s;\\n        }\\n        \\n        #add-button:hover {\\n            background-color: #3367d6;\\n        }\\n        \\n        .filters {\\n            display: flex;\\n            justify-content: center;\\n            margin-bottom: 20px;\\n            gap: 10px;\\n        }\\n        \\n        .filter-btn {\\n            background-color: #f1f1f1;\\n            border: none;\\n            padding: 8px 12px;\\n            cursor: pointer;\\n            border-radius: 4px;\\n            font-size: 14px;\\n            transition: background-color 0.3s;\\n        }\\n        \\n        .filter-btn.active {\\n            background-color: #4285f4;\\n            color: white;\\n        }\\n        \\n        .filter-btn:hover {\\n            background-color: #e4e4e4;\\n        }\\n        \\n        .filter-btn.active:hover {\\n            background-color: #3367d6;\\n        }\\n        \\n        .todo-list {\\n            list-style-type: none;\\n        }\\n        \\n        .todo-item {\\n            display: flex;\\n            align-items: center;\\n            padding: 10px;\\n            border-bottom: 1px solid #eee;\\n            animation: fadeIn 0.5s;\\n        }\\n        \\n        @keyframes fadeIn {\\n            from { opacity: 0; transform: translateY(-10px); }\\n            to { opacity: 1; transform: translateY(0); }\\n        }\\n        \\n        .todo-item:last-child {\\n            border-bottom: none;\\n        }\\n        \\n        .todo-item input[type=\"checkbox\"] {\\n            margin-right: 10px;\\n            width: 18px;\\n            height: 18px;\\n            cursor: pointer;\\n        }\\n        \\n        .todo-text {\\n            flex-grow: 1;\\n            font-size: 16px;\\n            transition: color 0.3s;\\n        }\\n        \\n        .completed .todo-text {\\n            text-decoration: line-through;\\n            color: #888;\\n        }\\n        \\n        .delete-btn {\\n            background-color: #ff5252;\\n            color: white;\\n            border: none;\\n            border-radius: 4px;\\n            padding: 5px 10px;\\n            cursor: pointer;\\n            margin-left: 10px;\\n            transition: background-color 0.3s;\\n        }\\n        \\n        .delete-btn:hover {\\n            background-color: #ff1a1a;\\n        }\\n        \\n        .clear-completed {\\n            background-color: #f1f1f1;\\n            border: none;\\n            padding: 8px 12px;\\n            cursor: pointer;\\n            border-radius: 4px;\\n            font-size: 14px;\\n            margin-top: 20px;\\n            transition: background-color 0.3s;\\n        }\\n        \\n        .clear-completed:hover {\\n            background-color: #e4e4e4;\\n        }\\n        \\n        .empty-message {\\n            text-align: center;\\n            margin: 20px 0;\\n            color: #888;\\n            font-style: italic;\\n        }\\n        \\n        .stats {\\n            margin-top: 20px;\\n            text-align: center;\\n            color: #888;\\n            font-size: 14px;\\n        }\\n    </style>\\n</head>\\n<body>\\n    <div class=\"container\">\\n        <h1>Todo List</h1>\\n        \\n        <div class=\"input-container\">\\n            <input type=\"text\" id=\"todo-input\" placeholder=\"Add a new task...\">\\n            <button id=\"add-button\">Add</button>\\n        </div>\\n        \\n        <div class=\"filters\">\\n            <button class=\"filter-btn active\" data-filter=\"all\">All</button>\\n            <button class=\"filter-btn\" data-filter=\"active\">Active</button>\\n            <button class=\"filter-btn\" data-filter=\"completed\">Completed</button>\\n        </div>\\n        \\n        <ul class=\"todo-list\" id=\"todo-list\"></ul>\\n        \\n        <div class=\"stats\" id=\"stats\"></div>\\n        \\n        <button class=\"clear-completed\" id=\"clear-completed\">Clear Completed</button>\\n    </div>\\n\\n    <script>\\n        document.addEventListener(\\'DOMContentLoaded\\', function() {\\n            // DOM elements\\n            const todoInput = document.getElementById(\\'todo-input\\');\\n            const addButton = document.getElementById(\\'add-button\\');\\n            const todoList = document.getElementById(\\'todo-list\\');\\n            const filterButtons = document.querySelectorAll(\\'.filter-btn\\');\\n            const clearCompletedBtn = document.getElementById(\\'clear-completed\\');\\n            const statsElement = document.getElementById(\\'stats\\');\\n            \\n            // App state\\n            let todos = JSON.parse(localStorage.getItem(\\'todos\\')) || [];\\n            let currentFilter = \\'all\\';\\n            \\n            // Initialize app\\n            renderTodos();\\n            updateStats();\\n            \\n            // Event listeners\\n            addButton.addEventListener(\\'click\\', addTodo);\\n            todoInput.addEventListener(\\'keypress\\', function(e) {\\n                if (e.key === \\'Enter\\') {\\n                    addTodo();\\n                }\\n            });\\n            \\n            clearCompletedBtn.addEventListener(\\'click\\', clearCompleted);\\n            \\n            filterButtons.forEach(button => {\\n                button.addEventListener(\\'click\\', () => {\\n                    // Update active class\\n                    filterButtons.forEach(btn => btn.classList.remove(\\'active\\'));\\n                    button.classList.add(\\'active\\');\\n                    \\n                    // Update filter\\n                    currentFilter = button.getAttribute(\\'data-filter\\');\\n                    renderTodos();\\n                });\\n            });\\n            \\n            // Functions\\n            function addTodo() {\\n                const todoText = todoInput.value.trim();\\n                \\n                if (todoText !== \\'\\') {\\n                    const newTodo = {\\n                        id: Date.now(),\\n                        text: todoText,\\n                        completed: false\\n                    };\\n                    \\n                    todos.push(newTodo);\\n                    saveTodos();\\n                    renderTodos();\\n                    updateStats();\\n                    \\n                    // Clear input\\n                    todoInput.value = \\'\\';\\n                    todoInput.focus();\\n                }\\n            }\\n            \\n            function deleteTodo(id) {\\n                todos = todos.filter(todo => todo.id !== id);\\n                saveTodos();\\n                renderTodos();\\n                updateStats();\\n            }\\n            \\n            function toggleTodo(id) {\\n                todos = todos.map(todo => {\\n                    if (todo.id === id) {\\n                        return { ...todo, completed: !todo.completed };\\n                    }\\n                    return todo;\\n                });\\n                \\n                saveTodos();\\n                renderTodos();\\n                updateStats();\\n            }\\n            \\n            function clearCompleted() {\\n                todos = todos.filter(todo => !todo.completed);\\n                saveTodos();\\n                renderTodos();\\n                updateStats();\\n            }\\n            \\n            function renderTodos() {\\n                // Clear the list\\n                todoList.innerHTML = \\'\\';\\n                \\n                // Filter todos based on current filter\\n                let filteredTodos = todos;\\n                if (currentFilter === \\'active\\') {\\n                    filteredTodos = todos.filter(todo => !todo.completed);\\n                } else if (currentFilter === \\'completed\\') {\\n                    filteredTodos = todos.filter(todo => todo.completed);\\n                }\\n                \\n                // Show message if no todos\\n                if (filteredTodos.length === 0) {\\n                    const emptyMessage = document.createElement(\\'p\\');\\n                    emptyMessage.className = \\'empty-message\\';\\n                    emptyMessage.textContent = \\'No tasks found\\';\\n                    todoList.appendChild(emptyMessage);\\n                    return;\\n                }\\n                \\n                // Render todos\\n                filteredTodos.forEach(todo => {\\n                    const todoItem = document.createElement(\\'li\\');\\n                    todoItem.className = \\'todo-item\\';\\n                    if (todo.completed) {\\n                        todoItem.classList.add(\\'completed\\');\\n                    }\\n                    \\n                    const checkbox = document.createElement(\\'input\\');\\n                    checkbox.type = \\'checkbox\\';\\n                    checkbox.checked = todo.completed;\\n                    checkbox.addEventListener(\\'change\\', () => toggleTodo(todo.id));\\n                    \\n                    const todoText = document.createElement(\\'span\\');\\n                    todoText.className = \\'todo-text\\';\\n                    todoText.textContent = todo.text;\\n                    \\n                    const deleteBtn = document.createElement(\\'button\\');\\n                    deleteBtn.className = \\'delete-btn\\';\\n                    deleteBtn.textContent = \\'Delete\\';\\n                    deleteBtn.addEventListener(\\'click\\', () => deleteTodo(todo.id));\\n                    \\n                    todoItem.appendChild(checkbox);\\n                    todoItem.appendChild(todoText);\\n                    todoItem.appendChild(deleteBtn);\\n                    \\n                    todoList.appendChild(todoItem);\\n                });\\n            }\\n            \\n            function updateStats() {\\n                const total = todos.length;\\n                const completed = todos.filter(todo => todo.completed).length;\\n                const active = total - completed;\\n                \\n                statsElement.textContent = `${total} total • ${active} active • ${completed} completed`;\\n            }\\n            \\n            function saveTodos() {\\n                localStorage.setItem(\\'todos\\', JSON.stringify(todos));\\n            }\\n        });\\n    </script>\\n</body>\\n</html>'"
      ]
     },
     "execution_count": 6,
     "metadata": {},
     "output_type": "execute_result"
    }
   ],
   "source": [
    "context[\"todoListAppCode\"]"
   ]
  },
  {
   "cell_type": "code",
   "execution_count": 7,
   "id": "a2ce9e10-c759-4ef4-b11c-c44fc2f2ec2b",
   "metadata": {},
   "outputs": [
    {
     "data": {
      "text/plain": [
       "dict_keys(['todoListAppCode'])"
      ]
     },
     "execution_count": 7,
     "metadata": {},
     "output_type": "execute_result"
    }
   ],
   "source": [
    "context.keys()"
   ]
  },
  {
   "cell_type": "code",
   "execution_count": 8,
   "id": "00040d24-7626-4a9a-bac3-fd8fc837d40b",
   "metadata": {},
   "outputs": [],
   "source": [
    "system_message = \"You are an expert in answering accurate questions about Insurellm, the Insurance Tech company. Give brief, accurate answers. If you don't know the answer, say so. Do not make anything up if you haven't been provided with relevant context.\""
   ]
  },
  {
   "cell_type": "code",
   "execution_count": 9,
   "id": "a7d293db-b233-4253-8472-db6bffacbd62",
   "metadata": {},
   "outputs": [],
   "source": [
    "def get_relevant_context(message):\n",
    "    relevant_context = []\n",
    "    for context_title, context_details in context.items():\n",
    "        if context_title.lower() in message.lower():\n",
    "            relevant_context.append(context_details)\n",
    "    return relevant_context          "
   ]
  },
  {
   "cell_type": "code",
   "execution_count": 12,
   "id": "f0c129a4-7925-401e-a6b4-9ed64f587869",
   "metadata": {},
   "outputs": [],
   "source": [
    "def add_context(message):\n",
    "    relevant_context = get_relevant_context(message)\n",
    "    if relevant_context:\n",
    "        message += \"\\n\\nThe following additional context might be relevant in answering this question:\\n\\n\"\n",
    "        for relevant in relevant_context:\n",
    "            message += relevant + \"\\n\\n\"\n",
    "    else:\n",
    "        message += \"\\n\\nNo additional context was found for this query. Proceeding with the information available.\\n\\n\"\n",
    "    return message"
   ]
  },
  {
   "cell_type": "code",
   "execution_count": 13,
   "id": "b356d3d3-05f9-47d0-be06-7f9190e62c9d",
   "metadata": {},
   "outputs": [
    {
     "name": "stdout",
     "output_type": "stream",
     "text": [
      "Who is Alex Lancaster?\n",
      "\n",
      "No additional context was found for this query. Proceeding with the information available.\n",
      "\n",
      "\n"
     ]
    }
   ],
   "source": [
    "print(add_context(\"Who is Alex Lancaster?\"))"
   ]
  },
  {
   "cell_type": "code",
   "execution_count": null,
   "id": "2c40cab1-9a83-4426-9a7f-e2d508982fd5",
   "metadata": {},
   "outputs": [],
   "source": [
    "print(add_context(\"What do our todoListAppCode?\"))"
   ]
  },
  {
   "cell_type": "code",
   "execution_count": 14,
   "id": "390fe053-cef8-42a5-a007-3bca1d35d533",
   "metadata": {},
   "outputs": [],
   "source": [
    "#def chat(message, history):\n",
    "#    messages = [{\"role\": \"system\", \"content\": system_message}] + history\n",
    "#    message = add_context(message)\n",
    "#    messages.append({\"role\": \"user\", \"content\": message})\n",
    "\n",
    "#    stream = openai.chat.completions.create(model=MODEL, messages=messages, stream=True)\n",
    "\n",
    "#    response = \"\"\n",
    "#    for chunk in stream:\n",
    "#        response += chunk.choices[0].delta.content or ''\n",
    "#        yield response"
   ]
  },
  {
   "cell_type": "code",
   "execution_count": 15,
   "id": "5067b673-07cb-4a20-b6f8-15900858b696",
   "metadata": {},
   "outputs": [],
   "source": [
    "## Now we will bring this up in Gradio using the Chat interface -\n",
    "## A quick and easy way to prototype a chat with an LLM\n",
    "#view = gr.ChatInterface(chat, type=\"messages\").launch()"
   ]
  }
 ],
 "metadata": {
  "kernelspec": {
   "display_name": "Python 3 (ipykernel)",
   "language": "python",
   "name": "python3"
  },
  "language_info": {
   "codemirror_mode": {
    "name": "ipython",
    "version": 3
   },
   "file_extension": ".py",
   "mimetype": "text/x-python",
   "name": "python",
   "nbconvert_exporter": "python",
   "pygments_lexer": "ipython3",
   "version": "3.12.0"
  }
 },
 "nbformat": 4,
 "nbformat_minor": 5
}
